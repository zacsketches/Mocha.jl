{
 "cells": [
  {
   "cell_type": "markdown",
   "metadata": {},
   "source": [
    "### Create a canvas with 9 images"
   ]
  },
  {
   "cell_type": "code",
   "execution_count": 7,
   "metadata": {
    "collapsed": false
   },
   "outputs": [],
   "source": [
    "using HDF5, Images, ImageView\n",
    "\n",
    "fid = h5open(\"cifar_data/visual.hdf5\", \"r\")\n",
    "data = read(fid, \"data\")\n",
    "labels = read(fid, \"label\")\n",
    "\n",
    "A = data[:,:,:,1:9]\n",
    "imgs = []\n",
    "for i in 1:9\n",
    "    img = convert(Image, A[:,:,:,i])\n",
    "    img[\"spatialorder\"]=[\"x\", \"y\"]\n",
    "    push!(imgs, img)\n",
    "end\n",
    "\n",
    "c = canvasgrid(3,3)\n",
    "idx = 0\n",
    "for i in 1:3 for j in 1:3\n",
    "        idx = idx + 1\n",
    "        view(c[i,j], imgs[idx])\n",
    "    end\n",
    "end"
   ]
  },
  {
   "cell_type": "markdown",
   "metadata": {},
   "source": [
    "### Inspect the labels to see if they are zero indexed"
   ]
  },
  {
   "cell_type": "code",
   "execution_count": 1,
   "metadata": {
    "collapsed": false
   },
   "outputs": [
    {
     "data": {
      "text/plain": [
       "1x20 Array{Float32,2}:\n",
       " 2.0  6.0  3.0  1.0  4.0  0.0  9.0  9.0  …  1.0  3.0  3.0  6.0  6.0  1.0  8.0"
      ]
     },
     "execution_count": 1,
     "metadata": {},
     "output_type": "execute_result"
    }
   ],
   "source": [
    "using HDF5, Images, ImageView\n",
    "\n",
    "fid = h5open(\"cifar_data/visual.hdf5\", \"r\")\n",
    "data = read(fid, \"data\")\n",
    "labels = read(fid, \"label\")\n",
    "\n",
    "L = labels[1:20]'"
   ]
  },
  {
   "cell_type": "markdown",
   "metadata": {},
   "source": [
    "### Create a single annotated image"
   ]
  },
  {
   "cell_type": "code",
   "execution_count": 15,
   "metadata": {
    "collapsed": false
   },
   "outputs": [
    {
     "data": {
      "text/plain": [
       "\"\""
      ]
     },
     "execution_count": 15,
     "metadata": {},
     "output_type": "execute_result"
    }
   ],
   "source": [
    "using HDF5, Images, ImageView, Colors\n",
    "\n",
    "#read the image and label data files\n",
    "fid = h5open(\"cifar_data/visual.hdf5\", \"r\")\n",
    "data = read(fid, \"data\")\n",
    "labels = read(fid, \"label\")\n",
    "\n",
    "#read the meta_labels file\n",
    "tags = []\n",
    "fname = \"batches.meta.txt\"\n",
    "open(fname) do file\n",
    "    for line in eachline(file)\n",
    "        line = strip(line)\n",
    "        if length(line)>0 \n",
    "            push!(tags, strip(line))\n",
    "        end\n",
    "    end\n",
    "end\n",
    "\n",
    "image = 6\n",
    "\n",
    "#create the image\n",
    "img = convert(Image, data[:,:,:,image])\n",
    "img[\"spatialorder\"]=[\"x\",\"y\"]\n",
    "\n",
    "#create the string label\n",
    "offset = 1 #necessary because labels are 0.0 float indexed but tags are 1 indexed\n",
    "L1 = convert(Int64, labels[image])\n",
    "l1 = string(\"Label: \", tags[L1+offset], \" $L1\")\n",
    "\n",
    "#set up the label location on the 32x32 image\n",
    "x = 4\n",
    "y = 30\n",
    "\n",
    "#annotate the image\n",
    "imgc, imgslice = ImageView.view(img);\n",
    "idx = ImageView.annotate!(imgc, imgslice, ImageView.AnnotationText(x, y, l1, color=RGB(1,1,1), fontsize=2, halign=\"left\"))\n",
    "Tk.set_size(ImageView.toplevel(imgc), 300, 300)"
   ]
  },
  {
   "cell_type": "markdown",
   "metadata": {},
   "source": [
    "### Label all the images on a variable sized canvas"
   ]
  },
  {
   "cell_type": "code",
   "execution_count": 10,
   "metadata": {
    "collapsed": false
   },
   "outputs": [],
   "source": [
    "using HDF5, Images, ImageView, Colors\n",
    "\n",
    "#define N as the size ofthe NxN grid of images\n",
    "N=10\n",
    "\n",
    "#read the image and label data files\n",
    "fid = h5open(\"cifar_data/visual.hdf5\", \"r\")\n",
    "data = read(fid, \"data\")\n",
    "labels = read(fid, \"label\")\n",
    "\n",
    "#read the meta_labels file\n",
    "tags = []\n",
    "fname = \"batches.meta.txt\"\n",
    "open(fname) do file\n",
    "    for line in eachline(file)\n",
    "        line = strip(line)\n",
    "        if length(line)>0 \n",
    "            push!(tags, strip(line))\n",
    "        end\n",
    "    end\n",
    "end\n",
    "\n",
    "#set up the annotation constants on the 32x32 image\n",
    "x = 1\n",
    "y = 30\n",
    "offset = 1 #necessary because labels are 0.0 float indexed but tags are 1 indexed\n",
    "font = round(N/2)\n",
    "\n",
    "L = []\n",
    "for l in labels[1:N^2]\n",
    "    label_index = convert(Int64, l)\n",
    "    label_tag = tags[label_index+offset]\n",
    "    push!(L, string(\"GT: \", label_tag, \"($label_index)\"))\n",
    "end\n",
    "\n",
    "A = data[:,:,:,1:N^2]\n",
    "imgs = []\n",
    "for i in 1:N^2\n",
    "    img = convert(Image, A[:,:,:,i])\n",
    "    img[\"spatialorder\"]=[\"x\", \"y\"]\n",
    "    push!(imgs, img)\n",
    "end\n",
    "\n",
    "c = canvasgrid(N,N)\n",
    "idx = 0\n",
    "for i in 1:N for j in 1:N\n",
    "        idx = idx + 1\n",
    "        c2, slice = ImageView.view(c[i,j], imgs[idx])\n",
    "        ImageView.annotate!(c2, slice, ImageView.AnnotationText(x, y, L[idx], color=RGB(1,0,0), fontsize=font, halign=\"left\"))\n",
    "    end\n",
    "end\n"
   ]
  },
  {
   "cell_type": "code",
   "execution_count": 11,
   "metadata": {
    "collapsed": false
   },
   "outputs": [
    {
     "data": {
      "text/plain": [
       "16-element Array{Float32,1}:\n",
       " 2.0\n",
       " 6.0\n",
       " 3.0\n",
       " 1.0\n",
       " 4.0\n",
       " 0.0\n",
       " 9.0\n",
       " 9.0\n",
       " 1.0\n",
       " 1.0\n",
       " 0.0\n",
       " 3.0\n",
       " 7.0\n",
       " 1.0\n",
       " 3.0\n",
       " 3.0"
      ]
     },
     "execution_count": 11,
     "metadata": {},
     "output_type": "execute_result"
    }
   ],
   "source": [
    "using HDF5, Images, ImageView, Colors\n",
    "\n",
    "#define N as the size ofthe NxN grid of images\n",
    "N=4\n",
    "\n",
    "#read the image and label data files\n",
    "fid = h5open(\"cifar_data/visual.hdf5\", \"r\")\n",
    "data = read(fid, \"data\")\n",
    "labels = read(fid, \"label\")\n",
    "\n",
    "L = labels[1:N^2]"
   ]
  }
 ],
 "metadata": {
  "anaconda-cloud": {},
  "kernelspec": {
   "display_name": "Julia 0.4.6",
   "language": "julia",
   "name": "julia-0.4"
  },
  "language_info": {
   "file_extension": ".jl",
   "mimetype": "application/julia",
   "name": "julia",
   "version": "0.4.6"
  }
 },
 "nbformat": 4,
 "nbformat_minor": 0
}
